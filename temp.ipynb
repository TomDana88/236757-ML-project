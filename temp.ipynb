{
 "cells": [
  {
   "cell_type": "code",
   "execution_count": 1,
   "metadata": {},
   "outputs": [],
   "source": [
    "import pandas as pd\n",
    "import numpy as np\n",
    "import pickle\n",
    "import time\n",
    "import copy\n",
    "import datetime\n",
    "import tqdm"
   ]
  },
  {
   "cell_type": "code",
   "execution_count": null,
   "metadata": {},
   "outputs": [],
   "source": [
    "# with open('sleeping.pickle', 'rb') as f:\n",
    "#     sleeping = pickle.load(f)"
   ]
  },
  {
   "cell_type": "code",
   "execution_count": null,
   "metadata": {},
   "outputs": [],
   "source": [
    "# sleep_by_minutes_dict = {id: sleeping[id]['sleep_by_minutes'] for id in sleeping if not sleeping[id]['sleep_by_minutes'].empty}\n",
    "# with open('sleep_by_minutes.pickle', 'wb') as f:\n",
    "#     pickle.dump(sleep_by_minutes_dict, f)"
   ]
  },
  {
   "cell_type": "code",
   "execution_count": null,
   "metadata": {},
   "outputs": [],
   "source": [
    "with open('sleep_by_minutes.pickle', 'rb') as f:\n",
    "    sleep_by_minutes_dict = pickle.load(f)"
   ]
  },
  {
   "cell_type": "code",
   "execution_count": null,
   "metadata": {},
   "outputs": [],
   "source": [
    "with open('heart_rate.pickle', 'rb') as f:\n",
    "    hr_df = pickle.load(f)\n",
    "hr_df.head()"
   ]
  },
  {
   "cell_type": "code",
   "execution_count": null,
   "metadata": {},
   "outputs": [],
   "source": [
    "# Create 'Timestamp' column from 'globalTime'\n",
    "hr_df['Timestamp'] = hr_df['globalTime'].apply(lambda x: pd.Timestamp(x, unit='s'))"
   ]
  },
  {
   "cell_type": "code",
   "execution_count": null,
   "metadata": {},
   "outputs": [],
   "source": [
    "with open('heart_rate.pickle', 'wb') as f:\n",
    "    pickle.dump(hr_df, f)"
   ]
  },
  {
   "cell_type": "code",
   "execution_count": null,
   "metadata": {},
   "outputs": [],
   "source": [
    "# Add 'Timestamp' column to sleep_by_minutes.pickle file\n",
    "for id in sleep_by_minutes_dict:\n",
    "    if sleep_by_minutes_dict[id].empty:\n",
    "        continue\n",
    "    tmp_df = sleep_by_minutes_dict[id][['Date', 'Hour', 'Minute']]\n",
    "    tmp_df = tmp_df['Date'].astype(str) + ' ' + tmp_df['Hour'].astype(str) + ':' + tmp_df['Minute'].astype(str)\n",
    "    sleep_by_minutes_dict[id]['Timestamp'] = pd.to_datetime(tmp_df)"
   ]
  },
  {
   "cell_type": "code",
   "execution_count": null,
   "metadata": {},
   "outputs": [],
   "source": [
    "with open('sleep_by_minutes.pickle', 'wb') as f:\n",
    "    pickle.dump(sleep_by_minutes_dict, f)"
   ]
  },
  {
   "cell_type": "code",
   "execution_count": null,
   "metadata": {},
   "outputs": [],
   "source": [
    "# Get the heart rate measurement for each sleep sample\n",
    "# If the heart rate measurement is not available, get the average of the heart rate from 30s before and after the sleep sample.\n",
    "# If that's not available, leave it as NaN\n",
    "\n",
    "for id, user_sleep_df in tqdm.tqdm(sleep_by_minutes_dict_new.items()):\n",
    "    if user_sleep_df.empty:\n",
    "        continue\n",
    "\n",
    "    # There are many duplicates in the dataframes, don't handle now just ignore them\n",
    "    user_hr_df = hr_df[hr_df['userId'] == id].drop_duplicates(subset='globalTime').sort_values(by='Timestamp')\n",
    "    # user_sleep_df = user_sleep_df.drop_duplicates(subset='Timestamp').sort_values(by='Timestamp')\n",
    "    sleep_df_dups = user_sleep_df.duplicated(subset='Timestamp')\n",
    "\n",
    "    # First, get the 'pulse' value of all entries with timestamp that exist in user_hr_df\n",
    "    sleep_ts_mask = (user_sleep_df['Timestamp'].isin(user_hr_df['Timestamp'])) & (~sleep_df_dups)\n",
    "    hr_ts_mask = user_hr_df['Timestamp'].isin(user_sleep_df['Timestamp'])\n",
    "    assert sleep_ts_mask.sum() == hr_ts_mask.sum()  # make sure the next line is valid\n",
    "    # Assigning to the original df (not the copy)\n",
    "    sleep_by_minutes_dict_new[id].loc[sleep_ts_mask, 'Pulse'] = \\\n",
    "        user_hr_df.loc[hr_ts_mask, 'pulse'].to_numpy(dtype=int, copy=True)\n",
    "\n",
    "    # Next, handle other entries\n",
    "    # next_hr_time = user_hr_df.iloc[0]['Timestamp']\n",
    "    for i, row in user_sleep_df[~sleep_ts_mask].iterrows():\n",
    "        timestamp = row['Timestamp']\n",
    "        # if abs(timestamp - next_hr_time) > pd.Timedelta('30s'):\n",
    "        #     if timestamp > next_hr_time:\n",
    "        #         tmp_hr_df = user_hr_df[user_hr_df['Timestamp'] >= timestamp]\n",
    "        #         if tmp_hr_df.empty:\n",
    "        #             break\n",
    "        #         next_hr_time = tmp_hr_df.iloc[0]['Timestamp']\n",
    "        #     continue\n",
    "        hr_df_slice = user_hr_df[(user_hr_df['Timestamp'] >= (timestamp - pd.Timedelta('30s'))) &\n",
    "                                 (user_hr_df['Timestamp'] <= (timestamp + pd.Timedelta('30s')))]\n",
    "        if hr_df_slice.empty:\n",
    "            continue\n",
    "        if timestamp in hr_df_slice['Timestamp'].values:\n",
    "            sleep_by_minutes_dict_new[id].loc[i, 'Pulse'] = \\\n",
    "                hr_df_slice[hr_df_slice['Timestamp'] == timestamp]['pulse'].values[0]\n",
    "        else:\n",
    "            sleep_by_minutes_dict_new[id].loc[i, 'Pulse'] = hr_df_slice['pulse'].mean()\n",
    "        # next_hr_time = user_hr_df[user_hr_df['Timestamp'] >= timestamp].iloc[0]['Timestamp']\n"
   ]
  },
  {
   "cell_type": "code",
   "execution_count": null,
   "metadata": {},
   "outputs": [],
   "source": [
    "def func(id):\n",
    "    user_sleep_df = sleep_by_minutes_dict_new[id].copy()\n",
    "\n",
    "    if user_sleep_df.empty:\n",
    "        return 0\n",
    "\n",
    "    # There are many duplicates in the dataframes, don't handle now just ignore them\n",
    "    user_hr_df = hr_df[hr_df['userId'] == id].drop_duplicates(subset='globalTime').sort_values(by='Timestamp')\n",
    "    sleep_df_dups = user_sleep_df.duplicated(subset='Timestamp')\n",
    "\n",
    "    # First, get the 'pulse' value of all entries with timestamp that exist in user_hr_df\n",
    "    sleep_ts_mask = (user_sleep_df['Timestamp'].isin(user_hr_df['Timestamp'])) & (~sleep_df_dups)\n",
    "    hr_ts_mask = user_hr_df['Timestamp'].isin(user_sleep_df['Timestamp'])\n",
    "    assert sleep_ts_mask.sum() == hr_ts_mask.sum()  # make sure the next line is valid\n",
    "\n",
    "    # Assigning to the original df (not the copy)\n",
    "    sleep_by_minutes_dict_new[id].loc[sleep_ts_mask, 'Pulse'] = \\\n",
    "        user_hr_df.loc[hr_ts_mask, 'pulse'].to_numpy(dtype=int, copy=True)\n",
    "\n",
    "    # Next, handle other entries\n",
    "    for i, row in user_sleep_df[~sleep_ts_mask].iterrows():\n",
    "        timestamp = row['Timestamp']\n",
    "        hr_df_slice = user_hr_df[(user_hr_df['Timestamp'] >= (timestamp - pd.Timedelta('30s'))) &\n",
    "                                 (user_hr_df['Timestamp'] <= (timestamp + pd.Timedelta('30s')))]\n",
    "        if hr_df_slice.empty:\n",
    "            continue\n",
    "        if timestamp in hr_df_slice['Timestamp'].values:\n",
    "            sleep_by_minutes_dict_new[id].loc[i, 'Pulse'] = \\\n",
    "                hr_df_slice[hr_df_slice['Timestamp'] == timestamp]['pulse'].values[0]\n",
    "        else:\n",
    "            sleep_by_minutes_dict_new[id].loc[i, 'Pulse'] = hr_df_slice['pulse'].mean()\n",
    "    return 0\n",
    "\n",
    "from multiprocessing import Pool\n",
    "\n",
    "if __name__ == '__main__':\n",
    "    with Pool() as pool:\n",
    "        count = 0\n",
    "        for _ in tqdm.tqdm(pool.imap_unordered(func, list(sleep_by_minutes_dict_new.keys()))):\n",
    "            count += 1\n",
    "            print(f'Done {100 * count / len(sleep_by_minutes_dict_new):.2f}%')\n"
   ]
  },
  {
   "cell_type": "code",
   "execution_count": null,
   "metadata": {},
   "outputs": [],
   "source": [
    "user_sleep_df"
   ]
  },
  {
   "cell_type": "code",
   "execution_count": null,
   "metadata": {},
   "outputs": [],
   "source": [
    "user_hr_df"
   ]
  },
  {
   "cell_type": "code",
   "execution_count": null,
   "metadata": {},
   "outputs": [],
   "source": [
    "# count = 0\n",
    "# user_sleep_df = sleep_by_minutes_dict_new[id].copy()\n",
    "# user_hr_df = hr_df[hr_df['userId'] == id].copy()\n",
    "\n",
    "# There are many duplicates in the hr_df\n",
    "user_hr_df.drop_duplicates(subset='globalTime', inplace=True)\n",
    "user_sleep_df.drop_duplicates(subset='Timestamp', inplace=True)\n",
    "\n",
    "# Handle timestamp entries from user_sleep_df that are in user_hr_df\n",
    "sleep_ts_mask = user_sleep_df['Timestamp'].isin(user_hr_df['Timestamp'])\n",
    "hr_ts_mask = user_hr_df['Timestamp'].isin(user_sleep_df['Timestamp'])\n",
    "assert sleep_ts_mask.sum() == hr_ts_mask.sum()\n",
    "user_sleep_df.loc[sleep_ts_mask, 'Pulse'] = user_hr_df.loc[hr_ts_mask, 'pulse'].to_numpy(dtype=int, copy=True)\n",
    "\n",
    "next_hr_time = max(user_hr_df.iloc[0]['Timestamp'], user_sleep_df.iloc[0]['Timestamp'])\n",
    "for i, row in user_sleep_df[~sleep_ts_mask].iterrows():\n",
    "    timestamp = row['Timestamp']\n",
    "    if abs(timestamp - next_hr_time) > pd.Timedelta('30s'):\n",
    "        if timestamp > next_hr_time:\n",
    "            next_hr_time = user_hr_df[user_hr_df['Timestamp'] >= timestamp].iloc[0]['Timestamp']\n",
    "        continue\n",
    "    hr_df_slice = user_hr_df[(user_hr_df['Timestamp'] >= (timestamp - pd.Timedelta('30s'))) &\n",
    "                             (user_hr_df['Timestamp'] <= (timestamp + pd.Timedelta('30s')))]\n",
    "    if hr_df_slice.empty:\n",
    "        continue\n",
    "    if timestamp in hr_df_slice['Timestamp'].values:\n",
    "        user_sleep_df.loc[i, 'Pulse'] = hr_df_slice[hr_df_slice['Timestamp'] == timestamp]['pulse'].values[0]\n",
    "    else:\n",
    "        user_sleep_df.loc[i, 'Pulse'] = hr_df_slice['pulse'].mean()\n",
    "    next_hr_time = user_hr_df[user_hr_df['Timestamp'] >= timestamp].iloc[0]['Timestamp']\n",
    "    count += 1"
   ]
  }
 ],
 "metadata": {
  "kernelspec": {
   "display_name": "base",
   "language": "python",
   "name": "python3"
  },
  "language_info": {
   "codemirror_mode": {
    "name": "ipython",
    "version": 3
   },
   "file_extension": ".py",
   "mimetype": "text/x-python",
   "name": "python",
   "nbconvert_exporter": "python",
   "pygments_lexer": "ipython3",
   "version": "3.11.5"
  }
 },
 "nbformat": 4,
 "nbformat_minor": 2
}
