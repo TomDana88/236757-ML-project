{
 "cells": [
  {
   "cell_type": "code",
   "execution_count": 1,
   "metadata": {},
   "outputs": [],
   "source": [
    "import pandas as pd\n",
    "import numpy as np\n",
    "import pickle\n",
    "import time"
   ]
  },
  {
   "cell_type": "code",
   "execution_count": 2,
   "metadata": {},
   "outputs": [],
   "source": [
    "# heartrate_df = pd.read_csv('data/heart_rate_daily.csv')\n",
    "hr_df = pd.read_csv('data/heart_rate_daily_new.csv')"
   ]
  },
  {
   "cell_type": "code",
   "execution_count": 3,
   "metadata": {},
   "outputs": [],
   "source": [
    "dailies_sammaries_df = pd.read_csv(\n",
    "    'data/dailies_summary.csv', index_col='summaryId')"
   ]
  },
  {
   "cell_type": "code",
   "execution_count": 13,
   "metadata": {},
   "outputs": [
    {
     "data": {
      "text/html": [
       "<div>\n",
       "<style scoped>\n",
       "    .dataframe tbody tr th:only-of-type {\n",
       "        vertical-align: middle;\n",
       "    }\n",
       "\n",
       "    .dataframe tbody tr th {\n",
       "        vertical-align: top;\n",
       "    }\n",
       "\n",
       "    .dataframe thead th {\n",
       "        text-align: right;\n",
       "    }\n",
       "</style>\n",
       "<table border=\"1\" class=\"dataframe\">\n",
       "  <thead>\n",
       "    <tr style=\"text-align: right;\">\n",
       "      <th></th>\n",
       "      <th>userId</th>\n",
       "      <th>dailiessummaryId</th>\n",
       "      <th>timeOffsetHeartRateSamples</th>\n",
       "      <th>pulse</th>\n",
       "    </tr>\n",
       "  </thead>\n",
       "  <tbody>\n",
       "    <tr>\n",
       "      <th>0</th>\n",
       "      <td>00a7a796-c572-44d7-a950-7f6bca4a4394</td>\n",
       "      <td>x48cc04e-6313c050-15180-6</td>\n",
       "      <td>33615</td>\n",
       "      <td>83</td>\n",
       "    </tr>\n",
       "    <tr>\n",
       "      <th>1</th>\n",
       "      <td>00a7a796-c572-44d7-a950-7f6bca4a4394</td>\n",
       "      <td>x48cc04e-6313c050-15180-6</td>\n",
       "      <td>33630</td>\n",
       "      <td>83</td>\n",
       "    </tr>\n",
       "    <tr>\n",
       "      <th>2</th>\n",
       "      <td>00a7a796-c572-44d7-a950-7f6bca4a4394</td>\n",
       "      <td>x48cc04e-6313c050-15180-6</td>\n",
       "      <td>33645</td>\n",
       "      <td>83</td>\n",
       "    </tr>\n",
       "    <tr>\n",
       "      <th>3</th>\n",
       "      <td>00a7a796-c572-44d7-a950-7f6bca4a4394</td>\n",
       "      <td>x48cc04e-6313c050-15180-6</td>\n",
       "      <td>33660</td>\n",
       "      <td>83</td>\n",
       "    </tr>\n",
       "    <tr>\n",
       "      <th>4</th>\n",
       "      <td>00a7a796-c572-44d7-a950-7f6bca4a4394</td>\n",
       "      <td>x48cc04e-6313c050-15180-6</td>\n",
       "      <td>33675</td>\n",
       "      <td>83</td>\n",
       "    </tr>\n",
       "    <tr>\n",
       "      <th>...</th>\n",
       "      <td>...</td>\n",
       "      <td>...</td>\n",
       "      <td>...</td>\n",
       "      <td>...</td>\n",
       "    </tr>\n",
       "    <tr>\n",
       "      <th>55575881</th>\n",
       "      <td>test</td>\n",
       "      <td>x47e8f6d-62ab99d0-a8c0-6</td>\n",
       "      <td>42900</td>\n",
       "      <td>64</td>\n",
       "    </tr>\n",
       "    <tr>\n",
       "      <th>55575882</th>\n",
       "      <td>test</td>\n",
       "      <td>x47e8f6d-62ab99d0-a8c0-6</td>\n",
       "      <td>43095</td>\n",
       "      <td>70</td>\n",
       "    </tr>\n",
       "    <tr>\n",
       "      <th>55575883</th>\n",
       "      <td>test</td>\n",
       "      <td>x47e8f6d-62ab99d0-a8c0-6</td>\n",
       "      <td>43110</td>\n",
       "      <td>70</td>\n",
       "    </tr>\n",
       "    <tr>\n",
       "      <th>55575884</th>\n",
       "      <td>test</td>\n",
       "      <td>x47e8f6d-62ab99d0-a8c0-6</td>\n",
       "      <td>43125</td>\n",
       "      <td>70</td>\n",
       "    </tr>\n",
       "    <tr>\n",
       "      <th>55575885</th>\n",
       "      <td>test</td>\n",
       "      <td>x47e8f6d-62ab99d0-a8c0-6</td>\n",
       "      <td>43140</td>\n",
       "      <td>70</td>\n",
       "    </tr>\n",
       "  </tbody>\n",
       "</table>\n",
       "<p>55568550 rows × 4 columns</p>\n",
       "</div>"
      ],
      "text/plain": [
       "                                        userId           dailiessummaryId  \\\n",
       "0         00a7a796-c572-44d7-a950-7f6bca4a4394  x48cc04e-6313c050-15180-6   \n",
       "1         00a7a796-c572-44d7-a950-7f6bca4a4394  x48cc04e-6313c050-15180-6   \n",
       "2         00a7a796-c572-44d7-a950-7f6bca4a4394  x48cc04e-6313c050-15180-6   \n",
       "3         00a7a796-c572-44d7-a950-7f6bca4a4394  x48cc04e-6313c050-15180-6   \n",
       "4         00a7a796-c572-44d7-a950-7f6bca4a4394  x48cc04e-6313c050-15180-6   \n",
       "...                                        ...                        ...   \n",
       "55575881                                  test   x47e8f6d-62ab99d0-a8c0-6   \n",
       "55575882                                  test   x47e8f6d-62ab99d0-a8c0-6   \n",
       "55575883                                  test   x47e8f6d-62ab99d0-a8c0-6   \n",
       "55575884                                  test   x47e8f6d-62ab99d0-a8c0-6   \n",
       "55575885                                  test   x47e8f6d-62ab99d0-a8c0-6   \n",
       "\n",
       "          timeOffsetHeartRateSamples  pulse  \n",
       "0                              33615     83  \n",
       "1                              33630     83  \n",
       "2                              33645     83  \n",
       "3                              33660     83  \n",
       "4                              33675     83  \n",
       "...                              ...    ...  \n",
       "55575881                       42900     64  \n",
       "55575882                       43095     70  \n",
       "55575883                       43110     70  \n",
       "55575884                       43125     70  \n",
       "55575885                       43140     70  \n",
       "\n",
       "[55568550 rows x 4 columns]"
      ]
     },
     "execution_count": 13,
     "metadata": {},
     "output_type": "execute_result"
    }
   ],
   "source": [
    "# some summaryIds from heart_rate_daily.csv are not in dailies_summary.csv\n",
    "valid_hr_df = heartrate_df[heartrate_df['dailiessummaryId'].isin(\n",
    "    dailies_sammaries_df.index)]\n",
    "valid_hr_df"
   ]
  },
  {
   "cell_type": "code",
   "execution_count": 15,
   "metadata": {},
   "outputs": [],
   "source": [
    "# split the data into 4 parts because it's too big\n",
    "hr_df_1 = valid_hr_df.iloc[:len(valid_hr_df)//4]\n",
    "hr_df_2 = valid_hr_df.iloc[len(valid_hr_df)//4:len(valid_hr_df)//2]\n",
    "hr_df_3 = valid_hr_df.iloc[len(valid_hr_df)//2:3*len(valid_hr_df)//4]\n",
    "hr_df_4 = valid_hr_df.iloc[3*len(valid_hr_df)//4:]"
   ]
  },
  {
   "cell_type": "code",
   "execution_count": 46,
   "metadata": {},
   "outputs": [
    {
     "name": "stderr",
     "output_type": "stream",
     "text": [
      "C:\\Users\\tomda\\AppData\\Local\\Temp\\ipykernel_7812\\1330231264.py:1: SettingWithCopyWarning: \n",
      "A value is trying to be set on a copy of a slice from a DataFrame.\n",
      "Try using .loc[row_indexer,col_indexer] = value instead\n",
      "\n",
      "See the caveats in the documentation: https://pandas.pydata.org/pandas-docs/stable/user_guide/indexing.html#returning-a-view-versus-a-copy\n",
      "  hr_df_1.loc[:, 'globalTime'] = dailies_sammaries_df.loc[hr_df_1['dailiessummaryId'], 'startTimeInSeconds'].to_numpy() \\\n",
      "C:\\Users\\tomda\\AppData\\Local\\Temp\\ipykernel_7812\\1330231264.py:3: SettingWithCopyWarning: \n",
      "A value is trying to be set on a copy of a slice from a DataFrame.\n",
      "Try using .loc[row_indexer,col_indexer] = value instead\n",
      "\n",
      "See the caveats in the documentation: https://pandas.pydata.org/pandas-docs/stable/user_guide/indexing.html#returning-a-view-versus-a-copy\n",
      "  hr_df_2.loc[:, 'globalTime'] = dailies_sammaries_df.loc[hr_df_2['dailiessummaryId'], 'startTimeInSeconds'].to_numpy() \\\n",
      "C:\\Users\\tomda\\AppData\\Local\\Temp\\ipykernel_7812\\1330231264.py:5: SettingWithCopyWarning: \n",
      "A value is trying to be set on a copy of a slice from a DataFrame.\n",
      "Try using .loc[row_indexer,col_indexer] = value instead\n",
      "\n",
      "See the caveats in the documentation: https://pandas.pydata.org/pandas-docs/stable/user_guide/indexing.html#returning-a-view-versus-a-copy\n",
      "  hr_df_3.loc[:, 'globalTime'] = dailies_sammaries_df.loc[hr_df_3['dailiessummaryId'], 'startTimeInSeconds'].to_numpy() \\\n",
      "C:\\Users\\tomda\\AppData\\Local\\Temp\\ipykernel_7812\\1330231264.py:7: SettingWithCopyWarning: \n",
      "A value is trying to be set on a copy of a slice from a DataFrame.\n",
      "Try using .loc[row_indexer,col_indexer] = value instead\n",
      "\n",
      "See the caveats in the documentation: https://pandas.pydata.org/pandas-docs/stable/user_guide/indexing.html#returning-a-view-versus-a-copy\n",
      "  hr_df_4.loc[:, 'globalTime'] = dailies_sammaries_df.loc[hr_df_4['dailiessummaryId'], 'startTimeInSeconds'].to_numpy() \\\n"
     ]
    }
   ],
   "source": [
    "# add a column 'globalTime' which is the start time (taken from dailies_summary) + timeOffsetHeartRateSamples\n",
    "hr_df_1.loc[:, 'globalTime'] = dailies_sammaries_df.loc[hr_df_1['dailiessummaryId'], 'startTimeInSeconds'].to_numpy() \\\n",
    "    + hr_df_1.loc[:, 'timeOffsetHeartRateSamples'].to_numpy()\n",
    "hr_df_2.loc[:, 'globalTime'] = dailies_sammaries_df.loc[hr_df_2['dailiessummaryId'], 'startTimeInSeconds'].to_numpy() \\\n",
    "    + hr_df_2.loc[:, 'timeOffsetHeartRateSamples'].to_numpy()\n",
    "hr_df_3.loc[:, 'globalTime'] = dailies_sammaries_df.loc[hr_df_3['dailiessummaryId'], 'startTimeInSeconds'].to_numpy() \\\n",
    "    + hr_df_3.loc[:, 'timeOffsetHeartRateSamples'].to_numpy()\n",
    "hr_df_4.loc[:, 'globalTime'] = dailies_sammaries_df.loc[hr_df_4['dailiessummaryId'], 'startTimeInSeconds'].to_numpy() \\\n",
    "    + hr_df_4.loc[:, 'timeOffsetHeartRateSamples'].to_numpy()"
   ]
  },
  {
   "cell_type": "code",
   "execution_count": 50,
   "metadata": {},
   "outputs": [
    {
     "data": {
      "text/html": [
       "<div>\n",
       "<style scoped>\n",
       "    .dataframe tbody tr th:only-of-type {\n",
       "        vertical-align: middle;\n",
       "    }\n",
       "\n",
       "    .dataframe tbody tr th {\n",
       "        vertical-align: top;\n",
       "    }\n",
       "\n",
       "    .dataframe thead th {\n",
       "        text-align: right;\n",
       "    }\n",
       "</style>\n",
       "<table border=\"1\" class=\"dataframe\">\n",
       "  <thead>\n",
       "    <tr style=\"text-align: right;\">\n",
       "      <th></th>\n",
       "      <th>userId</th>\n",
       "      <th>dailiessummaryId</th>\n",
       "      <th>timeOffsetHeartRateSamples</th>\n",
       "      <th>pulse</th>\n",
       "      <th>globalTime</th>\n",
       "    </tr>\n",
       "  </thead>\n",
       "  <tbody>\n",
       "    <tr>\n",
       "      <th>0</th>\n",
       "      <td>00a7a796-c572-44d7-a950-7f6bca4a4394</td>\n",
       "      <td>x48cc04e-6313c050-15180-6</td>\n",
       "      <td>33615</td>\n",
       "      <td>83</td>\n",
       "      <td>1662272415</td>\n",
       "    </tr>\n",
       "    <tr>\n",
       "      <th>1</th>\n",
       "      <td>00a7a796-c572-44d7-a950-7f6bca4a4394</td>\n",
       "      <td>x48cc04e-6313c050-15180-6</td>\n",
       "      <td>33630</td>\n",
       "      <td>83</td>\n",
       "      <td>1662272430</td>\n",
       "    </tr>\n",
       "    <tr>\n",
       "      <th>2</th>\n",
       "      <td>00a7a796-c572-44d7-a950-7f6bca4a4394</td>\n",
       "      <td>x48cc04e-6313c050-15180-6</td>\n",
       "      <td>33645</td>\n",
       "      <td>83</td>\n",
       "      <td>1662272445</td>\n",
       "    </tr>\n",
       "    <tr>\n",
       "      <th>3</th>\n",
       "      <td>00a7a796-c572-44d7-a950-7f6bca4a4394</td>\n",
       "      <td>x48cc04e-6313c050-15180-6</td>\n",
       "      <td>33660</td>\n",
       "      <td>83</td>\n",
       "      <td>1662272460</td>\n",
       "    </tr>\n",
       "    <tr>\n",
       "      <th>4</th>\n",
       "      <td>00a7a796-c572-44d7-a950-7f6bca4a4394</td>\n",
       "      <td>x48cc04e-6313c050-15180-6</td>\n",
       "      <td>33675</td>\n",
       "      <td>83</td>\n",
       "      <td>1662272475</td>\n",
       "    </tr>\n",
       "    <tr>\n",
       "      <th>...</th>\n",
       "      <td>...</td>\n",
       "      <td>...</td>\n",
       "      <td>...</td>\n",
       "      <td>...</td>\n",
       "      <td>...</td>\n",
       "    </tr>\n",
       "    <tr>\n",
       "      <th>55575881</th>\n",
       "      <td>test</td>\n",
       "      <td>x47e8f6d-62ab99d0-a8c0-6</td>\n",
       "      <td>42900</td>\n",
       "      <td>64</td>\n",
       "      <td>1655456100</td>\n",
       "    </tr>\n",
       "    <tr>\n",
       "      <th>55575882</th>\n",
       "      <td>test</td>\n",
       "      <td>x47e8f6d-62ab99d0-a8c0-6</td>\n",
       "      <td>43095</td>\n",
       "      <td>70</td>\n",
       "      <td>1655456295</td>\n",
       "    </tr>\n",
       "    <tr>\n",
       "      <th>55575883</th>\n",
       "      <td>test</td>\n",
       "      <td>x47e8f6d-62ab99d0-a8c0-6</td>\n",
       "      <td>43110</td>\n",
       "      <td>70</td>\n",
       "      <td>1655456310</td>\n",
       "    </tr>\n",
       "    <tr>\n",
       "      <th>55575884</th>\n",
       "      <td>test</td>\n",
       "      <td>x47e8f6d-62ab99d0-a8c0-6</td>\n",
       "      <td>43125</td>\n",
       "      <td>70</td>\n",
       "      <td>1655456325</td>\n",
       "    </tr>\n",
       "    <tr>\n",
       "      <th>55575885</th>\n",
       "      <td>test</td>\n",
       "      <td>x47e8f6d-62ab99d0-a8c0-6</td>\n",
       "      <td>43140</td>\n",
       "      <td>70</td>\n",
       "      <td>1655456340</td>\n",
       "    </tr>\n",
       "  </tbody>\n",
       "</table>\n",
       "<p>55568550 rows × 5 columns</p>\n",
       "</div>"
      ],
      "text/plain": [
       "                                        userId           dailiessummaryId  \\\n",
       "0         00a7a796-c572-44d7-a950-7f6bca4a4394  x48cc04e-6313c050-15180-6   \n",
       "1         00a7a796-c572-44d7-a950-7f6bca4a4394  x48cc04e-6313c050-15180-6   \n",
       "2         00a7a796-c572-44d7-a950-7f6bca4a4394  x48cc04e-6313c050-15180-6   \n",
       "3         00a7a796-c572-44d7-a950-7f6bca4a4394  x48cc04e-6313c050-15180-6   \n",
       "4         00a7a796-c572-44d7-a950-7f6bca4a4394  x48cc04e-6313c050-15180-6   \n",
       "...                                        ...                        ...   \n",
       "55575881                                  test   x47e8f6d-62ab99d0-a8c0-6   \n",
       "55575882                                  test   x47e8f6d-62ab99d0-a8c0-6   \n",
       "55575883                                  test   x47e8f6d-62ab99d0-a8c0-6   \n",
       "55575884                                  test   x47e8f6d-62ab99d0-a8c0-6   \n",
       "55575885                                  test   x47e8f6d-62ab99d0-a8c0-6   \n",
       "\n",
       "          timeOffsetHeartRateSamples  pulse  globalTime  \n",
       "0                              33615     83  1662272415  \n",
       "1                              33630     83  1662272430  \n",
       "2                              33645     83  1662272445  \n",
       "3                              33660     83  1662272460  \n",
       "4                              33675     83  1662272475  \n",
       "...                              ...    ...         ...  \n",
       "55575881                       42900     64  1655456100  \n",
       "55575882                       43095     70  1655456295  \n",
       "55575883                       43110     70  1655456310  \n",
       "55575884                       43125     70  1655456325  \n",
       "55575885                       43140     70  1655456340  \n",
       "\n",
       "[55568550 rows x 5 columns]"
      ]
     },
     "execution_count": 50,
     "metadata": {},
     "output_type": "execute_result"
    }
   ],
   "source": [
    "hr_df = pd.concat([hr_df_1, hr_df_2, hr_df_3, hr_df_4])\n",
    "hr_df"
   ]
  },
  {
   "cell_type": "code",
   "execution_count": 53,
   "metadata": {},
   "outputs": [
    {
     "data": {
      "text/plain": [
       "True"
      ]
     },
     "execution_count": 53,
     "metadata": {},
     "output_type": "execute_result"
    }
   ],
   "source": [
    "# make sure we didn't modified the original dataframe\n",
    "hr_df.drop('globalTime', axis=1).equals(valid_hr_df)"
   ]
  },
  {
   "cell_type": "code",
   "execution_count": 54,
   "metadata": {},
   "outputs": [],
   "source": [
    "# save the new dataframe\n",
    "hr_df.to_csv('data/heart_rate_daily_new.csv', index=False)"
   ]
  },
  {
   "cell_type": "code",
   "execution_count": 85,
   "metadata": {},
   "outputs": [
    {
     "data": {
      "text/plain": [
       "['light_sleep',\n",
       " 'awake_sleep',\n",
       " 'deep_sleep',\n",
       " 'epoch',\n",
       " 'heart_rate',\n",
       " 'epoch_unique_days',\n",
       " 'epoch_avg_datapoints__per_day',\n",
       " 'deep_sleep_unique_days',\n",
       " 'deep_sleep_avg_datapoints_per_day',\n",
       " 'awake_sleep_unique_days',\n",
       " 'awake_sleep_avg_datapoints_per_day',\n",
       " 'light_sleep_unique_days',\n",
       " 'light_sleep_avg_datapoints_per_day',\n",
       " 'sleep_by_minutes',\n",
       " 'sleep_by_weeks']"
      ]
     },
     "execution_count": 85,
     "metadata": {},
     "output_type": "execute_result"
    }
   ],
   "source": [
    "list(data_0.keys())"
   ]
  },
  {
   "cell_type": "code",
   "execution_count": 76,
   "metadata": {},
   "outputs": [],
   "source": [
    "light_sleep_intervals = [(start, end) for start, end in zip(\n",
    "    light_sleep_data['startTimeInSeconds'], light_sleep_data['endTimeInSeconds'])]\n",
    "light_sleep_intervals\n",
    "hr_vals = []\n",
    "for i in range(len(user_hr_data)):\n",
    "    for start, end in intervals:\n",
    "        if user_hr_data.loc[i, 'globalTime'] >= start and user_hr_data.loc[i, 'globalTime'] <= end:\n",
    "            hr_vals.append(user_hr_data.loc[i, 'pulse'])"
   ]
  },
  {
   "cell_type": "code",
   "execution_count": 78,
   "metadata": {},
   "outputs": [
    {
     "data": {
      "text/plain": [
       "50.879122776722504"
      ]
     },
     "execution_count": 78,
     "metadata": {},
     "output_type": "execute_result"
    }
   ],
   "source": [
    "light_hr_vals = np.array(hr_vals)"
   ]
  },
  {
   "cell_type": "code",
   "execution_count": 79,
   "metadata": {},
   "outputs": [],
   "source": [
    "deep_sleep_data = sleeping[id]['deep_sleep']\n",
    "deep_sleep_intervals = [(start, end) for start, end in zip(\n",
    "    deep_sleep_data['startTimeInSeconds'], deep_sleep_data['endTimeInSeconds'])]\n",
    "hr_vals = []\n",
    "for i in range(len(user_hr_data)):\n",
    "    for start, end in deep_sleep_intervals:\n",
    "        if user_hr_data.loc[i, 'globalTime'] >= start and user_hr_data.loc[i, 'globalTime'] <= end:\n",
    "            hr_vals.append(user_hr_data.loc[i, 'pulse'])\n",
    "deep_hr_vals = np.array(hr_vals)\n",
    "deep_hr_vals.mean()"
   ]
  },
  {
   "cell_type": "code",
   "execution_count": null,
   "metadata": {},
   "outputs": [],
   "source": [
    "with open('data_dict.pickle', 'rb') as f:\n",
    "    data_dict = pickle.load(f)"
   ]
  },
  {
   "cell_type": "code",
   "execution_count": 102,
   "metadata": {},
   "outputs": [],
   "source": [
    "# adding rem_sleep to sleeping data\n",
    "for id in sleeping.keys():\n",
    "    filtered_rem_sleep = data_dict['rem_sleep'][data_dict['rem_sleep']['userId'] == id] \\\n",
    "        .reset_index().drop(columns=['index', 'summaryId'])\n",
    "    sleeping[id]['rem_sleep'] = filtered_rem_sleep"
   ]
  },
  {
   "cell_type": "code",
   "execution_count": 108,
   "metadata": {},
   "outputs": [],
   "source": [
    "# saving the new sleeping data\n",
    "with open('sleeping.pickle', 'wb') as f:\n",
    "    pickle.dump(sleeping, f)"
   ]
  },
  {
   "cell_type": "code",
   "execution_count": 4,
   "metadata": {},
   "outputs": [],
   "source": [
    "with open('sleeping.pickle', 'rb') as f:\n",
    "    sleeping = pickle.load(f)"
   ]
  },
  {
   "cell_type": "code",
   "execution_count": 5,
   "metadata": {},
   "outputs": [],
   "source": [
    "sleeping_keys = list(sleeping.keys())"
   ]
  },
  {
   "cell_type": "code",
   "execution_count": 46,
   "metadata": {},
   "outputs": [],
   "source": [
    "from tqdm import tqdm\n",
    "from collections import defaultdict"
   ]
  },
  {
   "cell_type": "code",
   "execution_count": 47,
   "metadata": {},
   "outputs": [
    {
     "name": "stderr",
     "output_type": "stream",
     "text": [
      "  0%|          | 0/210 [00:00<?, ?it/s]"
     ]
    },
    {
     "name": "stderr",
     "output_type": "stream",
     "text": [
      " 18%|█▊        | 38/210 [03:19<14:42,  5.13s/it]C:\\Users\\tomda\\AppData\\Local\\Temp\\ipykernel_16236\\2710335396.py:33: RuntimeWarning: invalid value encountered in scalar divide\n",
      "  avg_hr_val = total_hr_count / total_sample_count\n",
      " 68%|██████▊   | 142/210 [13:00<03:39,  3.23s/it]C:\\Users\\tomda\\AppData\\Local\\Temp\\ipykernel_16236\\2710335396.py:33: RuntimeWarning: invalid value encountered in scalar divide\n",
      "  avg_hr_val = total_hr_count / total_sample_count\n",
      " 76%|███████▌  | 159/210 [15:27<12:04, 14.21s/it]C:\\Users\\tomda\\AppData\\Local\\Temp\\ipykernel_16236\\2710335396.py:33: RuntimeWarning: invalid value encountered in scalar divide\n",
      "  avg_hr_val = total_hr_count / total_sample_count\n",
      "100%|██████████| 210/210 [20:45<00:00,  5.93s/it]\n"
     ]
    }
   ],
   "source": [
    "# getting the average heart rate for each user during sleep for light, deep and rem sleep.\n",
    "# not including 'awake sleep' for now because the average heart rate is much higher.\n",
    "total_sleep_hr_avg = {}\n",
    "sleep_types = ('light_sleep', 'deep_sleep', 'rem_sleep')\n",
    "for id in tqdm(sleeping_keys):\n",
    "    times = np.vstack(\n",
    "        [sleeping[id][sleep_type][['startTimeInSeconds', 'endTimeInSeconds']].values for sleep_type in sleep_types]\n",
    "    )\n",
    "    if times.size == 0:\n",
    "        continue\n",
    "    user_hr_data = hr_df[hr_df['userId'] == id]\n",
    "    total_hr_count = total_sample_count = 0\n",
    "\n",
    "    # Create a boolean mask for selecting relevant rows\n",
    "    mask = np.logical_or.reduce([\n",
    "        (user_hr_data['globalTime'] >= start)\n",
    "        & (user_hr_data['globalTime'] <= end)\n",
    "        for start, end in times\n",
    "    ])\n",
    "    relevant_data = user_hr_data[mask]\n",
    "    total_hr_count += relevant_data['pulse'].sum()\n",
    "    total_sample_count += len(relevant_data)\n",
    "\n",
    "    try:\n",
    "        avg_hr_val = total_hr_count / total_sample_count\n",
    "    except:\n",
    "        avg_hr_val = np.nan\n",
    "\n",
    "    total_sleep_hr_avg[id] = avg_hr_val"
   ]
  },
  {
   "cell_type": "code",
   "execution_count": 50,
   "metadata": {},
   "outputs": [],
   "source": [
    "with open('total_sleep_hr_avg.pickle', 'wb') as f:\n",
    "    pickle.dump(total_sleep_hr_avg, f)"
   ]
  },
  {
   "cell_type": "code",
   "execution_count": 41,
   "metadata": {},
   "outputs": [],
   "source": [
    "for id in sleeping.keys():\n",
    "    for sleep_type in sleep_types:\n",
    "        if id in avg_sleep_dict:\n",
    "            sleeping[id][f'avg_{sleep_type}'] = avg_sleep_dict[id][sleep_type]"
   ]
  },
  {
   "cell_type": "code",
   "execution_count": 39,
   "metadata": {},
   "outputs": [
    {
     "data": {
      "text/plain": [
       "{}"
      ]
     },
     "execution_count": 39,
     "metadata": {},
     "output_type": "execute_result"
    }
   ],
   "source": [
    "avg_sleep_dict.pop('test', None)"
   ]
  },
  {
   "cell_type": "code",
   "execution_count": 58,
   "metadata": {},
   "outputs": [],
   "source": [
    "with open('sleeping.pickle', 'wb') as f:\n",
    "    pickle.dump(sleeping, f)"
   ]
  },
  {
   "cell_type": "code",
   "execution_count": 55,
   "metadata": {},
   "outputs": [],
   "source": [
    "with open('avg_sleeping.pickle', 'wb') as f:\n",
    "    pickle.dump(avg_sleep_dict, f)"
   ]
  },
  {
   "cell_type": "code",
   "execution_count": 7,
   "metadata": {},
   "outputs": [],
   "source": [
    "with open('avg_sleeping.pickle', 'rb') as f:\n",
    "    avg_sleep_dict = pickle.load(f)"
   ]
  },
  {
   "cell_type": "code",
   "execution_count": 32,
   "metadata": {},
   "outputs": [],
   "source": [
    "# rename the keys in sleeping data\n",
    "sleep_types = ('light_sleep', 'deep_sleep', 'rem_sleep', 'awake_sleep')\n",
    "for id in sleeping.keys():\n",
    "    for sleep_type in sleep_types:\n",
    "        old_key, new_key = f'avg_{sleep_type}', f'{sleep_type}_avg_hr'\n",
    "        if id in avg_sleep_dict and old_key in sleeping[id].keys():\n",
    "            sleeping[id][new_key] = sleeping[id].pop(old_key)"
   ]
  },
  {
   "cell_type": "code",
   "execution_count": 52,
   "metadata": {},
   "outputs": [],
   "source": [
    "# save the total average of sleep heart rate for each id (light, deep, rem sleep)\n",
    "for id in sleeping:\n",
    "    if id in total_sleep_hr_avg:\n",
    "        sleeping[id]['total_sleep_avg_hr'] = total_sleep_hr_avg[id]"
   ]
  }
 ],
 "metadata": {
  "kernelspec": {
   "display_name": "base",
   "language": "python",
   "name": "python3"
  },
  "language_info": {
   "codemirror_mode": {
    "name": "ipython",
    "version": 3
   },
   "file_extension": ".py",
   "mimetype": "text/x-python",
   "name": "python",
   "nbconvert_exporter": "python",
   "pygments_lexer": "ipython3",
   "version": "3.11.5"
  }
 },
 "nbformat": 4,
 "nbformat_minor": 2
}
